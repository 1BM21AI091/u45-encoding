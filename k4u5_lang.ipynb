{
 "cells": [
  {
   "cell_type": "code",
   "execution_count": 11,
   "metadata": {},
   "outputs": [],
   "source": [
    "label_mapping = {\n",
    "    'A': '4',\n",
    "    'B': '13',\n",
    "    'E': '3',\n",
    "    'G': '6',\n",
    "    'H': '#',\n",
    "    'I': '1',\n",
    "    'O': '0',\n",
    "    'R': '12',\n",
    "    'S': '5',\n",
    "    'T': '+',   \n",
    "}"
   ]
  },
  {
   "cell_type": "code",
   "execution_count": 16,
   "metadata": {},
   "outputs": [
    {
     "data": {
      "text/plain": [
       "' IN THE QUIET STILLNESS OF THE EARLY MORNING, A GENTLE BREEZE RUSTLED THROUGH THE LEAVES, CREATING A SOOTHING SYMPHONY OF NATURE. THE SUN, RISING WITH A WARM AND GOLDEN GLOW, PAINTED THE SKY IN HUES OF PINK AND ORANGE, CASTING A MAGICAL SPELL UPON THE WORLD. IN A QUAINT VILLAGE NESTLED BETWEEN ROLLING HILLS, THE AROMA OF FRESHLY BREWED COFFEE WAFTED FROM THE CORNER CAFE, ENTICING LOCALS TO START THEIR DAY WITH A STEAMING CUP OF WARMTH. AS THE DAY UNFOLDED, LIFE IN THE VILLAGE BUZZED WITH ACTIVITY – CHILDREN GIGGLED ON THEIR WAY TO SCHOOL, FARMERS TENDED TO THEIR FIELDS, AND THE DISTANT SOUND OF A CHURCH BELL ECHOED THROUGH THE AIR. TIME SEEMED TO MOVE AT ITS OWN UNHURRIED PACE, ALLOWING MOMENTS OF SIMPLE JOY TO FLOURISH AMIDST THE TAPESTRY OF DAILY ROUTINES. IN THE HEART OF THIS SERENE HAVEN, STORIES UNFOLDED, RELATIONSHIPS DEEPENED, AND THE RHYTHM OF LIFE FLOWED HARMONIOUSLY, MUCH LIKE THE MEANDERING RIVER THAT EMBRACED THE OUTSKIRTS OF THE VILLAGE.'"
      ]
     },
     "execution_count": 16,
     "metadata": {},
     "output_type": "execute_result"
    }
   ],
   "source": [
    "x=input(\"enter the sentence : \")\n",
    "\n",
    "x=x.upper()\n",
    "\n",
    "x\n"
   ]
  },
  {
   "cell_type": "code",
   "execution_count": 17,
   "metadata": {},
   "outputs": [],
   "source": [
    "def conv(label_mapping,x):\n",
    "    result=''\n",
    "    for i in x:\n",
    "        result+=label_mapping.get(i,i)\n",
    "    \n",
    "    return result"
   ]
  },
  {
   "cell_type": "code",
   "execution_count": 18,
   "metadata": {},
   "outputs": [
    {
     "data": {
      "text/plain": [
       "' 1N +#3 QU13+ 5+1LLN355 0F +#3 3412LY M012N1N6, 4 63N+L3 131233Z3 12U5+L3D +#120U6# +#3 L34V35, C1234+1N6 4 500+#1N6 5YMP#0NY 0F N4+U123. +#3 5UN, 12151N6 W1+# 4 W412M 4ND 60LD3N 6L0W, P41N+3D +#3 5KY 1N #U35 0F P1NK 4ND 0124N63, C45+1N6 4 M461C4L 5P3LL UP0N +#3 W012LD. 1N 4 QU41N+ V1LL463 N35+L3D 133+W33N 120LL1N6 #1LL5, +#3 4120M4 0F F1235#LY 13123W3D C0FF33 W4F+3D F120M +#3 C012N312 C4F3, 3N+1C1N6 L0C4L5 +0 5+412+ +#3112 D4Y W1+# 4 5+34M1N6 CUP 0F W412M+#. 45 +#3 D4Y UNF0LD3D, L1F3 1N +#3 V1LL463 13UZZ3D W1+# 4C+1V1+Y – C#1LD123N 6166L3D 0N +#3112 W4Y +0 5C#00L, F412M3125 +3ND3D +0 +#3112 F13LD5, 4ND +#3 D15+4N+ 50UND 0F 4 C#U12C# 133LL 3C#03D +#120U6# +#3 4112. +1M3 533M3D +0 M0V3 4+ 1+5 0WN UN#U121213D P4C3, 4LL0W1N6 M0M3N+5 0F 51MPL3 J0Y +0 FL0U1215# 4M1D5+ +#3 +4P35+12Y 0F D41LY 120U+1N35. 1N +#3 #3412+ 0F +#15 53123N3 #4V3N, 5+012135 UNF0LD3D, 123L4+10N5#1P5 D33P3N3D, 4ND +#3 12#Y+#M 0F L1F3 FL0W3D #412M0N10U5LY, MUC# L1K3 +#3 M34ND3121N6 121V312 +#4+ 3M13124C3D +#3 0U+5K112+5 0F +#3 V1LL463.'"
      ]
     },
     "execution_count": 18,
     "metadata": {},
     "output_type": "execute_result"
    }
   ],
   "source": [
    "conv(label_mapping,x)"
   ]
  },
  {
   "cell_type": "code",
   "execution_count": null,
   "metadata": {},
   "outputs": [],
   "source": [
    "from cryptography.hazmat.backends import default_backend\n",
    "from cryptography.hazmat.primitives import serialization, hashes\n",
    "from cryptography.hazmat.primitives.asymmetric import rsa, padding\n",
    "\n",
    "def generate_key_pair():\n",
    "    private_key = rsa.generate_private_key(\n",
    "        public_exponent=65537,\n",
    "        key_size=2048,\n",
    "        backend=default_backend()\n",
    "    )\n",
    "    public_key = private_key.public_key()\n",
    "    \n",
    "    # Serialize keys to PEM format\n",
    "    private_pem = private_key.private_bytes(\n",
    "        encoding=serialization.Encoding.PEM,\n",
    "        format=serialization.PrivateFormat.TraditionalOpenSSL,\n",
    "        encryption_algorithm=serialization.NoEncryption()\n",
    "    )\n",
    "    \n",
    "    public_pem = public_key.public_bytes(\n",
    "        encoding=serialization.Encoding.PEM,\n",
    "        format=serialization.PublicFormat.SubjectPublicKeyInfo\n",
    "    )\n",
    "    \n",
    "    return private_pem, public_pem\n",
    "\n",
    "def encrypt(message, public_key_pem):\n",
    "    public_key = serialization.load_pem_public_key(public_key_pem, backend=default_backend())\n",
    "    ciphertext = public_key.encrypt(\n",
    "        message.encode('utf-8'),\n",
    "        padding.OAEP(\n",
    "            mgf=padding.MGF1(algorithm=hashes.SHA256()),\n",
    "            algorithm=hashes.SHA256(),\n",
    "            label=None\n",
    "        )\n",
    "    )\n",
    "    return ciphertext\n",
    "\n",
    "def decrypt(ciphertext, private_key_pem):\n",
    "    private_key = serialization.load_pem_private_key(private_key_pem, password=None, backend=default_backend())\n",
    "    plaintext = private_key.decrypt(\n",
    "        ciphertext,\n",
    "        padding.OAEP(\n",
    "            mgf=padding.MGF1(algorithm=hashes.SHA256()),\n",
    "            algorithm=hashes.SHA256(),\n",
    "            label=None\n",
    "        )\n",
    "    )\n",
    "    return plaintext.decode('utf-8')\n",
    "\n",
    "# Example usage\n",
    "if __name__ == \"__main__\":\n",
    "    # Generate key pair\n",
    "    private_key, public_key = generate_key_pair()\n",
    "\n",
    "    # Encrypt and Decrypt a message\n",
    "    message = y\n",
    "    ciphertext = encrypt(message, public_key)\n",
    "    decrypted_message = decrypt(ciphertext, private_key)\n",
    "\n",
    "    print(\"Original Message:\", message)\n",
    "    print(\"Encrypted Message:\", ciphertext)\n",
    "    print(\"Decrypted Message:\", decrypted_message)"
   ]
  }
 ],
 "metadata": {
  "kernelspec": {
   "display_name": "Python 3",
   "language": "python",
   "name": "python3"
  },
  "language_info": {
   "codemirror_mode": {
    "name": "ipython",
    "version": 3
   },
   "file_extension": ".py",
   "mimetype": "text/x-python",
   "name": "python",
   "nbconvert_exporter": "python",
   "pygments_lexer": "ipython3",
   "version": "3.11.7"
  }
 },
 "nbformat": 4,
 "nbformat_minor": 2
}
